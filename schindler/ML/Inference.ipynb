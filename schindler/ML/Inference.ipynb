{
 "cells": [
  {
   "cell_type": "code",
   "execution_count": 10,
   "metadata": {
    "colab": {
     "base_uri": "https://localhost:8080/"
    },
    "id": "LMTnYVk07KSL",
    "outputId": "f8845667-53df-432e-a6d8-35f0b5ce7c74"
   },
   "outputs": [
    {
     "name": "stderr",
     "output_type": "stream",
     "text": [
      "[nltk_data] Downloading package wordnet to /root/nltk_data...\n",
      "[nltk_data] Downloading package punkt to /root/nltk_data...\n",
      "[nltk_data]   Unzipping tokenizers/punkt.zip.\n"
     ]
    },
    {
     "data": {
      "text/plain": [
       "True"
      ]
     },
     "execution_count": 10,
     "metadata": {},
     "output_type": "execute_result"
    }
   ],
   "source": [
    "import joblib\n",
    "from sklearn.cluster import KMeans\n",
    "from scipy.spatial import distance\n",
    "from sklearn.feature_extraction.text import TfidfVectorizer\n",
    "import numpy as np\n",
    "from scipy.cluster.hierarchy import ward, dendrogram, fcluster, single, complete\n",
    "from sklearn.metrics.pairwise import cosine_similarity\n",
    "from sklearn.metrics import silhouette_score\n",
    "\n",
    "# feature extraction\n",
    "from sklearn.feature_extraction.text import TfidfVectorizer\n",
    "import nltk\n",
    "from nltk.stem import WordNetLemmatizer \n",
    "\n",
    "# data\n",
    "import pandas as pd\n",
    "import numpy as np\n",
    "import os\n",
    "import json\n",
    "\n",
    "# viz\n",
    "import matplotlib.pyplot as plt\n",
    "%matplotlib inline\n",
    "\n",
    "# other\n",
    "from tqdm import tqdm\n",
    "from copy import deepcopy\n",
    "import time\n",
    "\n",
    "\n",
    "nltk.download('wordnet')\n",
    "nltk.download('punkt')"
   ]
  },
  {
   "cell_type": "code",
   "execution_count": 11,
   "metadata": {
    "id": "I3IcvWzQ728j"
   },
   "outputs": [],
   "source": [
    "from nltk.stem.snowball import SnowballStemmer\n",
    "stemmer = SnowballStemmer(\"english\")\n",
    "import re\n",
    "def tokenize_and_stem(text):\n",
    "    # first tokenize by sentence, then by word to ensure that punctuation is caught as it's own token\n",
    "    tokens = [word for sent in nltk.sent_tokenize(text) for word in nltk.word_tokenize(sent)]\n",
    "    print(tokens)\n",
    "    filtered_tokens = []\n",
    "    # filter out any tokens not containing letters (e.g., numeric tokens, raw punctuation)\n",
    "    for token in tokens:\n",
    "        if re.search('[a-zA-Z]', token):\n",
    "            filtered_tokens.append(token)\n",
    "    stems = [stemmer.stem(t) for t in filtered_tokens]\n",
    "    return stems\n",
    "\n",
    "\n",
    "def tokenize_only(text):\n",
    "    # first tokenize by sentence, then by word to ensure that punctuation is caught as it's own token\n",
    "    tokens = [word.lower() for sent in nltk.sent_tokenize(text) for word in nltk.word_tokenize(sent)]\n",
    "    filtered_tokens = []\n",
    "    # print(tokens)\n",
    "    # filter out any tokens not containing letters (e.g., numeric tokens, raw punctuation)\n",
    "    for token in tokens:\n",
    "        if re.search('[a-zA-Z]', token):\n",
    "            filtered_tokens.append(token)\n",
    "    # print(filtered_tokens)\n",
    "    return filtered_tokens"
   ]
  },
  {
   "cell_type": "code",
   "execution_count": 2,
   "metadata": {
    "id": "8IbkzZsa7SAq"
   },
   "outputs": [],
   "source": [
    "def load_models(Path_Kmeans, Path_tfidf):\n",
    "  km = joblib.load(Path_Kmeans)\n",
    "  tfidf_vec = joblib.load(Path_tfidf)\n",
    "  return km,tfidf_vec\n"
   ]
  },
  {
   "cell_type": "code",
   "execution_count": 18,
   "metadata": {
    "id": "cTp6CkRC7WQG"
   },
   "outputs": [],
   "source": [
    "def predict_cluster(km_model, tfidf_model, data):\n",
    "  tfidf_matrix = tfidf_model.transform(data)\n",
    "  lables= km_model.predict(tfidf_matrix)\n",
    "  return lables[0]\n",
    "\n"
   ]
  },
  {
   "cell_type": "code",
   "execution_count": 21,
   "metadata": {
    "id": "Di7tFMTv7X0_"
   },
   "outputs": [],
   "source": [
    "def find_nearset_cluster(km_model, tfidf_model,data_clusters):\n",
    "  if len(np.unique(data_clusters))==1:\n",
    "    return np.unique(data_clusters)\n",
    "  else:\n",
    "    centers=  km_model.cluster_centers_ \n",
    "    centroids_midpoint=np.zeros((len(centers[0])))\n",
    "    \n",
    "    for val in np.unique(data_clusters):\n",
    "      for i in range (len(centers[0])):\n",
    "        centroids_midpoint[i] += centers[val][i]\n",
    "    centroids_midpoint=centroids_midpoint/len(np.unique(data_clusters))\n",
    "    distances=[]\n",
    "    for i in range(len(centers)):\n",
    "      distances.append(distance.euclidean(centroids_midpoint, centers[i]))\n",
    "    return np.argmin(np.array(distances))\n",
    "\n",
    "\n",
    "\n"
   ]
  },
  {
   "cell_type": "code",
   "execution_count": 12,
   "metadata": {
    "id": "WIlWB6eO7emQ"
   },
   "outputs": [],
   "source": [
    "km_model,tfidf_model=load_models('/content/drive/MyDrive/HackZurich_2022/Saved Models/Km_model.pkl',  '/content/drive/MyDrive/HackZurich_2022/Saved Models/tfidf_vector_model.pkl')"
   ]
  },
  {
   "cell_type": "code",
   "execution_count": 13,
   "metadata": {
    "id": "EAvCa7wM7yum"
   },
   "outputs": [],
   "source": [
    "data_point={'name': 'Michael Delker',\n",
    " 'interests': 'movie,adventure,science,politics,fashion,culture',\n",
    " 'journey_frequency': 702,\n",
    " 'cluster': None}"
   ]
  },
  {
   "cell_type": "code",
   "execution_count": 19,
   "metadata": {
    "colab": {
     "base_uri": "https://localhost:8080/"
    },
    "id": "W_bLoN2F7_dv",
    "outputId": "8629ba63-c049-4237-e25b-2b52ed798f70"
   },
   "outputs": [
    {
     "name": "stdout",
     "output_type": "stream",
     "text": [
      "predict cluster\n",
      "96\n"
     ]
    }
   ],
   "source": [
    "print('predict cluster')\n",
    "print(predict_cluster(km_model,tfidf_model,[data_point['interests']]))"
   ]
  },
  {
   "cell_type": "code",
   "execution_count": 22,
   "metadata": {
    "colab": {
     "base_uri": "https://localhost:8080/"
    },
    "id": "IN3adw0S8QjM",
    "outputId": "b7f03c97-b91c-4c91-c64c-4ada6f4d5327"
   },
   "outputs": [
    {
     "name": "stdout",
     "output_type": "stream",
     "text": [
      "Midpoint cluster is\n",
      "320\n"
     ]
    }
   ],
   "source": [
    "Cluster_list=[96,1,99,98,100,30,51,41]\n",
    "print('Midpoint cluster is')\n",
    "print(find_nearset_cluster(km_model,tfidf_model,Cluster_list))"
   ]
  }
 ],
 "metadata": {
  "colab": {
   "provenance": []
  },
  "kernelspec": {
   "display_name": "Python 3.10.4 ('venv': venv)",
   "language": "python",
   "name": "python3"
  },
  "language_info": {
   "codemirror_mode": {
    "name": "ipython",
    "version": 3
   },
   "file_extension": ".py",
   "mimetype": "text/x-python",
   "name": "python",
   "nbconvert_exporter": "python",
   "pygments_lexer": "ipython3",
   "version": "3.10.4"
  },
  "vscode": {
   "interpreter": {
    "hash": "44a001be536fb9436544e3023828505144e7db1e61709f7b97763347f8abb210"
   }
  }
 },
 "nbformat": 4,
 "nbformat_minor": 1
}
